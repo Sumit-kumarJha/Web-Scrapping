{
 "cells": [
  {
   "cell_type": "markdown",
   "id": "ba1bb085-cc55-438d-8771-189b511e5873",
   "metadata": {},
   "source": [
    "# Webscrapping"
   ]
  },
  {
   "cell_type": "markdown",
   "id": "3dce4b0c",
   "metadata": {},
   "source": [
    "Hi,\n",
    "This is a sample webscrapping project in which we extract, transform and load the data(ETL). We have used Beautiful Soup (bs4). We are using request library to communicate with the website.We have used pandas to create dataframes and Matplotlib to visulize the data."
   ]
  },
  {
   "cell_type": "code",
   "execution_count": 59,
   "id": "5494359e-47df-491a-9bb7-4cd1765bcaeb",
   "metadata": {},
   "outputs": [
    {
     "name": "stdout",
     "output_type": "stream",
     "text": [
      "Requirement already satisfied: bs4 in /Users/srikrishna/opt/anaconda3/envs/datascience/lib/python3.7/site-packages (0.0.1)\n",
      "Requirement already satisfied: beautifulsoup4 in /Users/srikrishna/opt/anaconda3/envs/datascience/lib/python3.7/site-packages (from bs4) (4.11.1)\n",
      "Requirement already satisfied: soupsieve>1.2 in /Users/srikrishna/opt/anaconda3/envs/datascience/lib/python3.7/site-packages (from beautifulsoup4->bs4) (2.3.1)\n",
      "Requirement already satisfied: html5lib in /Users/srikrishna/opt/anaconda3/envs/datascience/lib/python3.7/site-packages (1.1)\n",
      "Requirement already satisfied: six>=1.9 in /Users/srikrishna/opt/anaconda3/envs/datascience/lib/python3.7/site-packages (from html5lib) (1.16.0)\n",
      "Requirement already satisfied: webencodings in /Users/srikrishna/opt/anaconda3/envs/datascience/lib/python3.7/site-packages (from html5lib) (0.5.1)\n",
      "Requirement already satisfied: pandas in /Users/srikrishna/opt/anaconda3/envs/datascience/lib/python3.7/site-packages (1.3.5)\n",
      "Requirement already satisfied: python-dateutil>=2.7.3 in /Users/srikrishna/opt/anaconda3/envs/datascience/lib/python3.7/site-packages (from pandas) (2.8.2)\n",
      "Requirement already satisfied: pytz>=2017.3 in /Users/srikrishna/opt/anaconda3/envs/datascience/lib/python3.7/site-packages (from pandas) (2021.3)\n",
      "Requirement already satisfied: numpy>=1.17.3 in /Users/srikrishna/opt/anaconda3/envs/datascience/lib/python3.7/site-packages (from pandas) (1.21.5)\n",
      "Requirement already satisfied: six>=1.5 in /Users/srikrishna/opt/anaconda3/envs/datascience/lib/python3.7/site-packages (from python-dateutil>=2.7.3->pandas) (1.16.0)\n",
      "Requirement already satisfied: requests in /Users/srikrishna/opt/anaconda3/envs/datascience/lib/python3.7/site-packages (2.27.1)\n",
      "Requirement already satisfied: certifi>=2017.4.17 in /Users/srikrishna/opt/anaconda3/envs/datascience/lib/python3.7/site-packages (from requests) (2021.10.8)\n",
      "Requirement already satisfied: urllib3<1.27,>=1.21.1 in /Users/srikrishna/opt/anaconda3/envs/datascience/lib/python3.7/site-packages (from requests) (1.26.9)\n",
      "Requirement already satisfied: charset-normalizer~=2.0.0 in /Users/srikrishna/opt/anaconda3/envs/datascience/lib/python3.7/site-packages (from requests) (2.0.12)\n",
      "Requirement already satisfied: idna<4,>=2.5 in /Users/srikrishna/opt/anaconda3/envs/datascience/lib/python3.7/site-packages (from requests) (3.3)\n",
      "Requirement already satisfied: matplotlib in /Users/srikrishna/opt/anaconda3/envs/datascience/lib/python3.7/site-packages (3.5.1)\n",
      "Requirement already satisfied: pillow>=6.2.0 in /Users/srikrishna/opt/anaconda3/envs/datascience/lib/python3.7/site-packages (from matplotlib) (9.0.1)\n",
      "Requirement already satisfied: python-dateutil>=2.7 in /Users/srikrishna/opt/anaconda3/envs/datascience/lib/python3.7/site-packages (from matplotlib) (2.8.2)\n",
      "Requirement already satisfied: cycler>=0.10 in /Users/srikrishna/opt/anaconda3/envs/datascience/lib/python3.7/site-packages (from matplotlib) (0.11.0)\n",
      "Requirement already satisfied: packaging>=20.0 in /Users/srikrishna/opt/anaconda3/envs/datascience/lib/python3.7/site-packages (from matplotlib) (21.3)\n",
      "Requirement already satisfied: fonttools>=4.22.0 in /Users/srikrishna/opt/anaconda3/envs/datascience/lib/python3.7/site-packages (from matplotlib) (4.25.0)\n",
      "Requirement already satisfied: kiwisolver>=1.0.1 in /Users/srikrishna/opt/anaconda3/envs/datascience/lib/python3.7/site-packages (from matplotlib) (1.3.2)\n",
      "Requirement already satisfied: pyparsing>=2.2.1 in /Users/srikrishna/opt/anaconda3/envs/datascience/lib/python3.7/site-packages (from matplotlib) (3.0.4)\n",
      "Requirement already satisfied: numpy>=1.17 in /Users/srikrishna/opt/anaconda3/envs/datascience/lib/python3.7/site-packages (from matplotlib) (1.21.5)\n",
      "Requirement already satisfied: six>=1.5 in /Users/srikrishna/opt/anaconda3/envs/datascience/lib/python3.7/site-packages (from python-dateutil>=2.7->matplotlib) (1.16.0)\n"
     ]
    }
   ],
   "source": [
    "# checking weather requirements are fullfilled\n",
    "!pip install bs4\n",
    "!pip install html5lib\n",
    "!pip install pandas\n",
    "!pip install requests\n",
    "!pip install matplotlib"
   ]
  },
  {
   "cell_type": "markdown",
   "id": "625b2a78",
   "metadata": {},
   "source": [
    "## importing the important lib"
   ]
  },
  {
   "cell_type": "code",
   "execution_count": 2,
   "id": "4f3c2b4e-dd80-46d8-a26e-977cff336e83",
   "metadata": {},
   "outputs": [],
   "source": [
    "import pandas as pd\n",
    "import requests\n",
    "from bs4 import BeautifulSoup"
   ]
  },
  {
   "cell_type": "markdown",
   "id": "cf76bf5c",
   "metadata": {},
   "source": [
    "### making connection with website and requesting the data in text file"
   ]
  },
  {
   "cell_type": "code",
   "execution_count": 3,
   "id": "6733ac90-787b-4ef5-99d1-4100321526e9",
   "metadata": {},
   "outputs": [],
   "source": [
    "url = \"https://cf-courses-data.s3.us.cloud-object-storage.appdomain.cloud/IBMDeveloperSkillsNetwork-PY0220EN-SkillsNetwork/labs/project/netflix_data_webpage.html\"\n",
    "data = requests.get(url).text"
   ]
  },
  {
   "cell_type": "code",
   "execution_count": 4,
   "id": "8e2631f2-11b5-4e0a-9749-8878e3f85e74",
   "metadata": {},
   "outputs": [],
   "source": [
    "soup = BeautifulSoup(data, 'html5lib')"
   ]
  },
  {
   "cell_type": "markdown",
   "id": "285a4d65",
   "metadata": {},
   "source": [
    "### creating dataframe with data"
   ]
  },
  {
   "cell_type": "code",
   "execution_count": 5,
   "id": "654aa778-1806-4db9-a051-1d43ab76a476",
   "metadata": {},
   "outputs": [],
   "source": [
    "netflix_data = pd.DataFrame(columns=[\"Date\", \"Open\", \"High\", \"Low\", \"Close\", \"Volume\"])\n",
    "# First we isolate the body of the table which contains all the information\n",
    "# Then we loop through each row and find all the column values for each row\n",
    "for row in soup.find(\"tbody\").find_all('tr'):\n",
    "    col = row.find_all(\"td\")\n",
    "    date = col[0].text\n",
    "    Open = col[1].text\n",
    "    high = col[2].text\n",
    "    low = col[3].text\n",
    "    close = col[4].text\n",
    "    adj_close = col[5].text\n",
    "    volume = col[6].text\n",
    "    # Finally we append the data of each row to the table\n",
    "    netflix_data = netflix_data.append({\"Date\":date, \"Open\":Open, \"High\":high, \"Low\":low, \"Close\":close, \"Adj Close\":adj_close, \"Volume\":volume}, ignore_index=True) \n",
    "        "
   ]
  },
  {
   "cell_type": "markdown",
   "id": "edd0d242",
   "metadata": {},
   "source": [
    "### verifiying the data"
   ]
  },
  {
   "cell_type": "code",
   "execution_count": 6,
   "id": "36126a60-31c8-49a5-b326-2fe1cdb418c5",
   "metadata": {},
   "outputs": [
    {
     "data": {
      "text/html": [
       "<div>\n",
       "<style scoped>\n",
       "    .dataframe tbody tr th:only-of-type {\n",
       "        vertical-align: middle;\n",
       "    }\n",
       "\n",
       "    .dataframe tbody tr th {\n",
       "        vertical-align: top;\n",
       "    }\n",
       "\n",
       "    .dataframe thead th {\n",
       "        text-align: right;\n",
       "    }\n",
       "</style>\n",
       "<table border=\"1\" class=\"dataframe\">\n",
       "  <thead>\n",
       "    <tr style=\"text-align: right;\">\n",
       "      <th></th>\n",
       "      <th>Date</th>\n",
       "      <th>Open</th>\n",
       "      <th>High</th>\n",
       "      <th>Low</th>\n",
       "      <th>Close</th>\n",
       "      <th>Volume</th>\n",
       "      <th>Adj Close</th>\n",
       "    </tr>\n",
       "  </thead>\n",
       "  <tbody>\n",
       "    <tr>\n",
       "      <th>0</th>\n",
       "      <td>Jun 01, 2021</td>\n",
       "      <td>504.01</td>\n",
       "      <td>536.13</td>\n",
       "      <td>482.14</td>\n",
       "      <td>528.21</td>\n",
       "      <td>78,560,600</td>\n",
       "      <td>528.21</td>\n",
       "    </tr>\n",
       "    <tr>\n",
       "      <th>1</th>\n",
       "      <td>May 01, 2021</td>\n",
       "      <td>512.65</td>\n",
       "      <td>518.95</td>\n",
       "      <td>478.54</td>\n",
       "      <td>502.81</td>\n",
       "      <td>66,927,600</td>\n",
       "      <td>502.81</td>\n",
       "    </tr>\n",
       "    <tr>\n",
       "      <th>2</th>\n",
       "      <td>Apr 01, 2021</td>\n",
       "      <td>529.93</td>\n",
       "      <td>563.56</td>\n",
       "      <td>499.00</td>\n",
       "      <td>513.47</td>\n",
       "      <td>111,573,300</td>\n",
       "      <td>513.47</td>\n",
       "    </tr>\n",
       "    <tr>\n",
       "      <th>3</th>\n",
       "      <td>Mar 01, 2021</td>\n",
       "      <td>545.57</td>\n",
       "      <td>556.99</td>\n",
       "      <td>492.85</td>\n",
       "      <td>521.66</td>\n",
       "      <td>90,183,900</td>\n",
       "      <td>521.66</td>\n",
       "    </tr>\n",
       "    <tr>\n",
       "      <th>4</th>\n",
       "      <td>Feb 01, 2021</td>\n",
       "      <td>536.79</td>\n",
       "      <td>566.65</td>\n",
       "      <td>518.28</td>\n",
       "      <td>538.85</td>\n",
       "      <td>61,902,300</td>\n",
       "      <td>538.85</td>\n",
       "    </tr>\n",
       "  </tbody>\n",
       "</table>\n",
       "</div>"
      ],
      "text/plain": [
       "           Date    Open    High     Low   Close       Volume Adj Close\n",
       "0  Jun 01, 2021  504.01  536.13  482.14  528.21   78,560,600    528.21\n",
       "1  May 01, 2021  512.65  518.95  478.54  502.81   66,927,600    502.81\n",
       "2  Apr 01, 2021  529.93  563.56  499.00  513.47  111,573,300    513.47\n",
       "3  Mar 01, 2021  545.57  556.99  492.85  521.66   90,183,900    521.66\n",
       "4  Feb 01, 2021  536.79  566.65  518.28  538.85   61,902,300    538.85"
      ]
     },
     "execution_count": 6,
     "metadata": {},
     "output_type": "execute_result"
    }
   ],
   "source": [
    "netflix_data.head()"
   ]
  },
  {
   "cell_type": "markdown",
   "id": "64f5f398",
   "metadata": {},
   "source": [
    "### using pandas read_html function for extracting data directly using html"
   ]
  },
  {
   "cell_type": "code",
   "execution_count": 7,
   "id": "f9fb15e7-a936-44e0-807e-200222fc0af1",
   "metadata": {},
   "outputs": [],
   "source": [
    "read_html_pandas_datas = pd.read_html(url)"
   ]
  },
  {
   "cell_type": "code",
   "execution_count": 8,
   "id": "8cfb8a28-b923-43a9-a893-26ad89fff80f",
   "metadata": {},
   "outputs": [],
   "source": [
    "read_html_pandas_data = pd.read_html(str(soup))"
   ]
  },
  {
   "cell_type": "code",
   "execution_count": 9,
   "id": "f54d5047-ca08-4d91-a189-2d2d3e3278fe",
   "metadata": {},
   "outputs": [],
   "source": [
    "netflix_dataframe = read_html_pandas_data[0]"
   ]
  },
  {
   "cell_type": "code",
   "execution_count": 10,
   "id": "24631aee-801b-4f29-8601-aa4247aabc23",
   "metadata": {},
   "outputs": [
    {
     "data": {
      "text/html": [
       "<div>\n",
       "<style scoped>\n",
       "    .dataframe tbody tr th:only-of-type {\n",
       "        vertical-align: middle;\n",
       "    }\n",
       "\n",
       "    .dataframe tbody tr th {\n",
       "        vertical-align: top;\n",
       "    }\n",
       "\n",
       "    .dataframe thead th {\n",
       "        text-align: right;\n",
       "    }\n",
       "</style>\n",
       "<table border=\"1\" class=\"dataframe\">\n",
       "  <thead>\n",
       "    <tr style=\"text-align: right;\">\n",
       "      <th></th>\n",
       "      <th>Date</th>\n",
       "      <th>Open</th>\n",
       "      <th>High</th>\n",
       "      <th>Low</th>\n",
       "      <th>Close*</th>\n",
       "      <th>Adj Close**</th>\n",
       "      <th>Volume</th>\n",
       "    </tr>\n",
       "  </thead>\n",
       "  <tbody>\n",
       "    <tr>\n",
       "      <th>0</th>\n",
       "      <td>Jun 01, 2021</td>\n",
       "      <td>504.01</td>\n",
       "      <td>536.13</td>\n",
       "      <td>482.14</td>\n",
       "      <td>528.21</td>\n",
       "      <td>528.21</td>\n",
       "      <td>78560600</td>\n",
       "    </tr>\n",
       "    <tr>\n",
       "      <th>1</th>\n",
       "      <td>May 01, 2021</td>\n",
       "      <td>512.65</td>\n",
       "      <td>518.95</td>\n",
       "      <td>478.54</td>\n",
       "      <td>502.81</td>\n",
       "      <td>502.81</td>\n",
       "      <td>66927600</td>\n",
       "    </tr>\n",
       "    <tr>\n",
       "      <th>2</th>\n",
       "      <td>Apr 01, 2021</td>\n",
       "      <td>529.93</td>\n",
       "      <td>563.56</td>\n",
       "      <td>499.00</td>\n",
       "      <td>513.47</td>\n",
       "      <td>513.47</td>\n",
       "      <td>111573300</td>\n",
       "    </tr>\n",
       "    <tr>\n",
       "      <th>3</th>\n",
       "      <td>Mar 01, 2021</td>\n",
       "      <td>545.57</td>\n",
       "      <td>556.99</td>\n",
       "      <td>492.85</td>\n",
       "      <td>521.66</td>\n",
       "      <td>521.66</td>\n",
       "      <td>90183900</td>\n",
       "    </tr>\n",
       "    <tr>\n",
       "      <th>4</th>\n",
       "      <td>Feb 01, 2021</td>\n",
       "      <td>536.79</td>\n",
       "      <td>566.65</td>\n",
       "      <td>518.28</td>\n",
       "      <td>538.85</td>\n",
       "      <td>538.85</td>\n",
       "      <td>61902300</td>\n",
       "    </tr>\n",
       "  </tbody>\n",
       "</table>\n",
       "</div>"
      ],
      "text/plain": [
       "           Date    Open    High     Low  Close* Adj Close**     Volume\n",
       "0  Jun 01, 2021  504.01  536.13  482.14  528.21      528.21   78560600\n",
       "1  May 01, 2021  512.65  518.95  478.54  502.81      502.81   66927600\n",
       "2  Apr 01, 2021  529.93  563.56  499.00  513.47      513.47  111573300\n",
       "3  Mar 01, 2021  545.57  556.99  492.85  521.66      521.66   90183900\n",
       "4  Feb 01, 2021  536.79  566.65  518.28  538.85      538.85   61902300"
      ]
     },
     "execution_count": 10,
     "metadata": {},
     "output_type": "execute_result"
    }
   ],
   "source": [
    "netflix_dataframe.head()"
   ]
  },
  {
   "cell_type": "code",
   "execution_count": 11,
   "id": "87d83e4d-1921-4c7f-8798-13ad3c8ebe0d",
   "metadata": {},
   "outputs": [
    {
     "data": {
      "text/plain": [
       "<title>Netflix, Inc. (NFLX) Stock Historical Prices &amp; Data - Yahoo Finance</title>"
      ]
     },
     "execution_count": 11,
     "metadata": {},
     "output_type": "execute_result"
    }
   ],
   "source": [
    "soup.title"
   ]
  },
  {
   "cell_type": "code",
   "execution_count": 12,
   "id": "53d240cf-5fd0-4582-bc15-780e52655ade",
   "metadata": {},
   "outputs": [
    {
     "data": {
      "text/html": [
       "<div>\n",
       "<style scoped>\n",
       "    .dataframe tbody tr th:only-of-type {\n",
       "        vertical-align: middle;\n",
       "    }\n",
       "\n",
       "    .dataframe tbody tr th {\n",
       "        vertical-align: top;\n",
       "    }\n",
       "\n",
       "    .dataframe thead th {\n",
       "        text-align: right;\n",
       "    }\n",
       "</style>\n",
       "<table border=\"1\" class=\"dataframe\">\n",
       "  <thead>\n",
       "    <tr style=\"text-align: right;\">\n",
       "      <th></th>\n",
       "      <th>Date</th>\n",
       "      <th>Open</th>\n",
       "      <th>High</th>\n",
       "      <th>Low</th>\n",
       "      <th>Close*</th>\n",
       "      <th>Adj Close**</th>\n",
       "      <th>Volume</th>\n",
       "    </tr>\n",
       "  </thead>\n",
       "  <tbody>\n",
       "    <tr>\n",
       "      <th>66</th>\n",
       "      <td>Dec 01, 2015</td>\n",
       "      <td>124.47</td>\n",
       "      <td>133.27</td>\n",
       "      <td>113.85</td>\n",
       "      <td>114.38</td>\n",
       "      <td>114.38</td>\n",
       "      <td>319939200</td>\n",
       "    </tr>\n",
       "    <tr>\n",
       "      <th>67</th>\n",
       "      <td>Nov 01, 2015</td>\n",
       "      <td>109.20</td>\n",
       "      <td>126.60</td>\n",
       "      <td>101.86</td>\n",
       "      <td>123.33</td>\n",
       "      <td>123.33</td>\n",
       "      <td>320321800</td>\n",
       "    </tr>\n",
       "    <tr>\n",
       "      <th>68</th>\n",
       "      <td>Oct 01, 2015</td>\n",
       "      <td>102.91</td>\n",
       "      <td>115.83</td>\n",
       "      <td>96.26</td>\n",
       "      <td>108.38</td>\n",
       "      <td>108.38</td>\n",
       "      <td>446204400</td>\n",
       "    </tr>\n",
       "    <tr>\n",
       "      <th>69</th>\n",
       "      <td>Sep 01, 2015</td>\n",
       "      <td>109.35</td>\n",
       "      <td>111.24</td>\n",
       "      <td>93.55</td>\n",
       "      <td>103.26</td>\n",
       "      <td>103.26</td>\n",
       "      <td>497401200</td>\n",
       "    </tr>\n",
       "    <tr>\n",
       "      <th>70</th>\n",
       "      <td>*Close price adjusted for splits.**Adjusted cl...</td>\n",
       "      <td>*Close price adjusted for splits.**Adjusted cl...</td>\n",
       "      <td>*Close price adjusted for splits.**Adjusted cl...</td>\n",
       "      <td>*Close price adjusted for splits.**Adjusted cl...</td>\n",
       "      <td>*Close price adjusted for splits.**Adjusted cl...</td>\n",
       "      <td>*Close price adjusted for splits.**Adjusted cl...</td>\n",
       "      <td>*Close price adjusted for splits.**Adjusted cl...</td>\n",
       "    </tr>\n",
       "  </tbody>\n",
       "</table>\n",
       "</div>"
      ],
      "text/plain": [
       "                                                 Date  \\\n",
       "66                                       Dec 01, 2015   \n",
       "67                                       Nov 01, 2015   \n",
       "68                                       Oct 01, 2015   \n",
       "69                                       Sep 01, 2015   \n",
       "70  *Close price adjusted for splits.**Adjusted cl...   \n",
       "\n",
       "                                                 Open  \\\n",
       "66                                             124.47   \n",
       "67                                             109.20   \n",
       "68                                             102.91   \n",
       "69                                             109.35   \n",
       "70  *Close price adjusted for splits.**Adjusted cl...   \n",
       "\n",
       "                                                 High  \\\n",
       "66                                             133.27   \n",
       "67                                             126.60   \n",
       "68                                             115.83   \n",
       "69                                             111.24   \n",
       "70  *Close price adjusted for splits.**Adjusted cl...   \n",
       "\n",
       "                                                  Low  \\\n",
       "66                                             113.85   \n",
       "67                                             101.86   \n",
       "68                                              96.26   \n",
       "69                                              93.55   \n",
       "70  *Close price adjusted for splits.**Adjusted cl...   \n",
       "\n",
       "                                               Close*  \\\n",
       "66                                             114.38   \n",
       "67                                             123.33   \n",
       "68                                             108.38   \n",
       "69                                             103.26   \n",
       "70  *Close price adjusted for splits.**Adjusted cl...   \n",
       "\n",
       "                                          Adj Close**  \\\n",
       "66                                             114.38   \n",
       "67                                             123.33   \n",
       "68                                             108.38   \n",
       "69                                             103.26   \n",
       "70  *Close price adjusted for splits.**Adjusted cl...   \n",
       "\n",
       "                                               Volume  \n",
       "66                                          319939200  \n",
       "67                                          320321800  \n",
       "68                                          446204400  \n",
       "69                                          497401200  \n",
       "70  *Close price adjusted for splits.**Adjusted cl...  "
      ]
     },
     "execution_count": 12,
     "metadata": {},
     "output_type": "execute_result"
    }
   ],
   "source": [
    "netflix_dataframe.tail()"
   ]
  },
  {
   "cell_type": "code",
   "execution_count": 13,
   "id": "a6658097-3ee2-447e-8e06-2478852d6059",
   "metadata": {},
   "outputs": [
    {
     "data": {
      "text/html": [
       "<div>\n",
       "<style scoped>\n",
       "    .dataframe tbody tr th:only-of-type {\n",
       "        vertical-align: middle;\n",
       "    }\n",
       "\n",
       "    .dataframe tbody tr th {\n",
       "        vertical-align: top;\n",
       "    }\n",
       "\n",
       "    .dataframe thead th {\n",
       "        text-align: right;\n",
       "    }\n",
       "</style>\n",
       "<table border=\"1\" class=\"dataframe\">\n",
       "  <thead>\n",
       "    <tr style=\"text-align: right;\">\n",
       "      <th></th>\n",
       "      <th>Date</th>\n",
       "      <th>Open</th>\n",
       "      <th>High</th>\n",
       "      <th>Low</th>\n",
       "      <th>Close*</th>\n",
       "      <th>Adj Close**</th>\n",
       "      <th>Volume</th>\n",
       "    </tr>\n",
       "  </thead>\n",
       "  <tbody>\n",
       "    <tr>\n",
       "      <th>0</th>\n",
       "      <td>Jun 01, 2021</td>\n",
       "      <td>504.01</td>\n",
       "      <td>536.13</td>\n",
       "      <td>482.14</td>\n",
       "      <td>528.21</td>\n",
       "      <td>528.21</td>\n",
       "      <td>78560600</td>\n",
       "    </tr>\n",
       "    <tr>\n",
       "      <th>1</th>\n",
       "      <td>May 01, 2021</td>\n",
       "      <td>512.65</td>\n",
       "      <td>518.95</td>\n",
       "      <td>478.54</td>\n",
       "      <td>502.81</td>\n",
       "      <td>502.81</td>\n",
       "      <td>66927600</td>\n",
       "    </tr>\n",
       "    <tr>\n",
       "      <th>2</th>\n",
       "      <td>Apr 01, 2021</td>\n",
       "      <td>529.93</td>\n",
       "      <td>563.56</td>\n",
       "      <td>499.00</td>\n",
       "      <td>513.47</td>\n",
       "      <td>513.47</td>\n",
       "      <td>111573300</td>\n",
       "    </tr>\n",
       "    <tr>\n",
       "      <th>3</th>\n",
       "      <td>Mar 01, 2021</td>\n",
       "      <td>545.57</td>\n",
       "      <td>556.99</td>\n",
       "      <td>492.85</td>\n",
       "      <td>521.66</td>\n",
       "      <td>521.66</td>\n",
       "      <td>90183900</td>\n",
       "    </tr>\n",
       "    <tr>\n",
       "      <th>4</th>\n",
       "      <td>Feb 01, 2021</td>\n",
       "      <td>536.79</td>\n",
       "      <td>566.65</td>\n",
       "      <td>518.28</td>\n",
       "      <td>538.85</td>\n",
       "      <td>538.85</td>\n",
       "      <td>61902300</td>\n",
       "    </tr>\n",
       "    <tr>\n",
       "      <th>5</th>\n",
       "      <td>Jan 01, 2021</td>\n",
       "      <td>539.00</td>\n",
       "      <td>593.29</td>\n",
       "      <td>485.67</td>\n",
       "      <td>532.39</td>\n",
       "      <td>532.39</td>\n",
       "      <td>139988600</td>\n",
       "    </tr>\n",
       "    <tr>\n",
       "      <th>6</th>\n",
       "      <td>Dec 01, 2020</td>\n",
       "      <td>492.34</td>\n",
       "      <td>545.50</td>\n",
       "      <td>491.29</td>\n",
       "      <td>540.73</td>\n",
       "      <td>540.73</td>\n",
       "      <td>77564100</td>\n",
       "    </tr>\n",
       "    <tr>\n",
       "      <th>7</th>\n",
       "      <td>Nov 01, 2020</td>\n",
       "      <td>478.87</td>\n",
       "      <td>518.73</td>\n",
       "      <td>463.41</td>\n",
       "      <td>490.70</td>\n",
       "      <td>490.70</td>\n",
       "      <td>91788900</td>\n",
       "    </tr>\n",
       "    <tr>\n",
       "      <th>8</th>\n",
       "      <td>Oct 01, 2020</td>\n",
       "      <td>506.03</td>\n",
       "      <td>572.49</td>\n",
       "      <td>472.21</td>\n",
       "      <td>475.74</td>\n",
       "      <td>475.74</td>\n",
       "      <td>154302400</td>\n",
       "    </tr>\n",
       "    <tr>\n",
       "      <th>9</th>\n",
       "      <td>Sep 01, 2020</td>\n",
       "      <td>532.60</td>\n",
       "      <td>557.39</td>\n",
       "      <td>458.60</td>\n",
       "      <td>500.03</td>\n",
       "      <td>500.03</td>\n",
       "      <td>118796900</td>\n",
       "    </tr>\n",
       "  </tbody>\n",
       "</table>\n",
       "</div>"
      ],
      "text/plain": [
       "           Date    Open    High     Low  Close* Adj Close**     Volume\n",
       "0  Jun 01, 2021  504.01  536.13  482.14  528.21      528.21   78560600\n",
       "1  May 01, 2021  512.65  518.95  478.54  502.81      502.81   66927600\n",
       "2  Apr 01, 2021  529.93  563.56  499.00  513.47      513.47  111573300\n",
       "3  Mar 01, 2021  545.57  556.99  492.85  521.66      521.66   90183900\n",
       "4  Feb 01, 2021  536.79  566.65  518.28  538.85      538.85   61902300\n",
       "5  Jan 01, 2021  539.00  593.29  485.67  532.39      532.39  139988600\n",
       "6  Dec 01, 2020  492.34  545.50  491.29  540.73      540.73   77564100\n",
       "7  Nov 01, 2020  478.87  518.73  463.41  490.70      490.70   91788900\n",
       "8  Oct 01, 2020  506.03  572.49  472.21  475.74      475.74  154302400\n",
       "9  Sep 01, 2020  532.60  557.39  458.60  500.03      500.03  118796900"
      ]
     },
     "execution_count": 13,
     "metadata": {},
     "output_type": "execute_result"
    }
   ],
   "source": [
    "netflix_dataframe.iloc[:10]"
   ]
  },
  {
   "cell_type": "code",
   "execution_count": 14,
   "id": "bbed7f67-d57f-4569-9d7e-ff73bf5270ad",
   "metadata": {},
   "outputs": [
    {
     "data": {
      "text/plain": [
       "0    504.01\n",
       "1    512.65\n",
       "2    529.93\n",
       "3    545.57\n",
       "4    536.79\n",
       "5    539.00\n",
       "6    492.34\n",
       "7    478.87\n",
       "8    506.03\n",
       "9    532.60\n",
       "Name: Open, dtype: object"
      ]
     },
     "execution_count": 14,
     "metadata": {},
     "output_type": "execute_result"
    }
   ],
   "source": [
    "netflix_dataframe.iloc[:10]['Open']"
   ]
  },
  {
   "cell_type": "markdown",
   "id": "d6bd13ca",
   "metadata": {},
   "source": [
    "## plotting the data for better insights"
   ]
  },
  {
   "cell_type": "code",
   "execution_count": 19,
   "id": "72f52a19-ec2e-43e7-85af-687dcdff43ff",
   "metadata": {},
   "outputs": [],
   "source": [
    "import matplotlib.pyplot as plt\n",
    "%matplotlib inline"
   ]
  },
  {
   "cell_type": "code",
   "execution_count": 57,
   "id": "93e768e7",
   "metadata": {},
   "outputs": [
    {
     "data": {
      "image/png": "[encoded data removed]",
      "text/plain": [
       "<Figure size 2880x1440 with 2 Axes>"
      ]
     },
     "metadata": {
      "needs_background": "light"
     },
     "output_type": "display_data"
    }
   ],
   "source": [
    "font1 = {'family':'American Typewriter','color':'black','size':30}\n",
    "font2 = {'family':'serif','color':'darkred','size':15}\n",
    "plt.figure(figsize = (40, 20))\n",
    "plt.subplot(2, 1, 1)\n",
    "\n",
    "plt.plot(netflix_dataframe['Date'].head(20), netflix_dataframe['Close*'].head(20), color = 'g', linewidth = '2.5')\n",
    "plt.title('Stock price vs date', fontdict = font1)\n",
    "plt.xlabel('Date', fontdict = font2)\n",
    "plt.ylabel('Price', fontdict = font2)\n",
    "plt.subplot(2, 1, 2)\n",
    "# plt.figure(figsize = (20, 10))\n",
    "plt.plot(netflix_dataframe['Date'].head(10), netflix_dataframe['Volume'].head(10), color = 'g', linewidth = '2.5')\n",
    "plt.title('Volume vs Date', fontdict = font1)\n",
    "plt.xlabel('Date', fontdict = font2)\n",
    "plt.ylabel('Price', fontdict = font2)\n",
    "plt.show()"
   ]
  },
  {
   "cell_type": "markdown",
   "id": "65aa1694",
   "metadata": {},
   "source": [
    "#### I hope you have liked it. Thank you "
   ]
  },
  {
   "cell_type": "code",
   "execution_count": null,
   "id": "417f45e0",
   "metadata": {},
   "outputs": [],
   "source": []
  }
 ],
 "metadata": {
  "interpreter": {
   "hash": "2a840a789a445250738699b84d0d446fd9aa73a2e9d675146317aadf5cf77903"
  },
  "kernelspec": {
   "display_name": "Python 3 (ipykernel)",
   "language": "python",
   "name": "python3"
  },
  "language_info": {
   "codemirror_mode": {
    "name": "ipython",
    "version": 3
   },
   "file_extension": ".py",
   "mimetype": "text/x-python",
   "name": "python",
   "nbconvert_exporter": "python",
   "pygments_lexer": "ipython3",
   "version": "3.7.13"
  }
 },
 "nbformat": 4,
 "nbformat_minor": 5
}
